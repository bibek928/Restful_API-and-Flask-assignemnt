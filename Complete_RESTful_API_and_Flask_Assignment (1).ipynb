{
 "cells": [
  {
   "cell_type": "markdown",
   "id": "bf6715fb",
   "metadata": {},
   "source": [
    "### 1. What is a RESTful API?\n",
    "\n",
    "A RESTful API is an application programming interface that follows the REST (Representational State Transfer) architectural style, using standard HTTP methods to access and manipulate resources."
   ]
  },
  {
   "cell_type": "markdown",
   "id": "d3b26dff",
   "metadata": {},
   "source": [
    "### 2. Explain the concept of API specification.\n",
    "\n",
    "An API specification defines how software components interact, including endpoints, request/response formats, methods, and authentication. Tools like OpenAPI/Swagger are often used."
   ]
  },
  {
   "cell_type": "markdown",
   "id": "f8612f5f",
   "metadata": {},
   "source": [
    "### 3. What is Flask, and why is it popular for building APIs?\n",
    "\n",
    "Flask is a lightweight Python web framework. It's popular for APIs due to its simplicity, flexibility, and wide range of extensions."
   ]
  },
  {
   "cell_type": "markdown",
   "id": "3fd640e0",
   "metadata": {},
   "source": [
    "### 4. What is routing in Flask?\n",
    "\n",
    "Routing maps URLs to specific functions in your Flask app using the @app.route() decorator."
   ]
  },
  {
   "cell_type": "markdown",
   "id": "89c573a0",
   "metadata": {},
   "source": [
    "### 5. How do you create a simple Flask application?\n",
    "\n",
    "```python\n",
    "from flask import Flask\n",
    "app = Flask(__name__)\n",
    "\n",
    "@app.route('/')\n",
    "def hello():\n",
    "    return 'Hello, World!'\n",
    "\n",
    "if __name__ == '__main__':\n",
    "    app.run(debug=True)\n",
    "```"
   ]
  },
  {
   "cell_type": "markdown",
   "id": "968deff5",
   "metadata": {},
   "source": [
    "### 6. What are HTTP methods used in RESTful APIs?\n",
    "\n",
    "GET, POST, PUT, DELETE, PATCH, OPTIONS."
   ]
  },
  {
   "cell_type": "markdown",
   "id": "42b81cf9",
   "metadata": {},
   "source": [
    "### 7. What is the purpose of the @app.route() decorator in Flask?\n",
    "\n",
    "It binds a URL to a view function, enabling routing."
   ]
  },
  {
   "cell_type": "markdown",
   "id": "85e492cd",
   "metadata": {},
   "source": [
    "### 8. What is the difference between GET and POST HTTP methods?\n",
    "\n",
    "GET retrieves data, POST sends data to the server to create/update resources."
   ]
  },
  {
   "cell_type": "markdown",
   "id": "90ddf69e",
   "metadata": {},
   "source": [
    "### 9. How do you handle errors in Flask APIs?\n",
    "\n",
    "```python\n",
    "@app.errorhandler(404)\n",
    "def not_found(e):\n",
    "    return {'error': 'Not found'}, 404\n",
    "```"
   ]
  },
  {
   "cell_type": "markdown",
   "id": "f831afd6",
   "metadata": {},
   "source": [
    "### 10. How do you connect Flask to a SQL database?\n",
    "\n",
    "```python\n",
    "app.config['SQLALCHEMY_DATABASE_URI'] = 'sqlite:///db.sqlite3'\n",
    "db = SQLAlchemy(app)\n",
    "```"
   ]
  },
  {
   "cell_type": "markdown",
   "id": "a4ddbb6f",
   "metadata": {},
   "source": [
    "### 11. What is the role of Flask-SQLAlchemy?\n",
    "\n",
    "It provides ORM capabilities, simplifies database interactions."
   ]
  },
  {
   "cell_type": "markdown",
   "id": "ecacd660",
   "metadata": {},
   "source": [
    "### 12. What are Flask blueprints, and how are they useful?\n",
    "\n",
    "Blueprints modularize an app into components, making large apps manageable."
   ]
  },
  {
   "cell_type": "markdown",
   "id": "9cb3dd52",
   "metadata": {},
   "source": [
    "### 13. What is the purpose of Flask's request object?\n",
    "\n",
    "It provides access to incoming request data like form inputs, JSON, etc."
   ]
  },
  {
   "cell_type": "markdown",
   "id": "75c05a77",
   "metadata": {},
   "source": [
    "### 14. How do you create a RESTful API endpoint using Flask?\n",
    "\n",
    "```python\n",
    "@app.route('/api/data', methods=['GET'])\n",
    "def get_data():\n",
    "    return jsonify({'data': 'example'})\n",
    "```"
   ]
  },
  {
   "cell_type": "markdown",
   "id": "8cdc2ddc",
   "metadata": {},
   "source": [
    "### 15. What is the purpose of Flask's jsonify() function?\n",
    "\n",
    "It converts Python dictionaries to JSON responses with proper headers."
   ]
  },
  {
   "cell_type": "markdown",
   "id": "287d2b9e",
   "metadata": {},
   "source": [
    "### 16. Explain Flask’s url_for() function.\n",
    "\n",
    "It dynamically builds URLs from function names, helpful for maintainability."
   ]
  },
  {
   "cell_type": "markdown",
   "id": "d7b4f823",
   "metadata": {},
   "source": [
    "### 17. How does Flask handle static files (CSS, JavaScript, etc.)?\n",
    "\n",
    "Flask serves files from the static directory using url_for('static', filename='style.css')."
   ]
  },
  {
   "cell_type": "markdown",
   "id": "d05bb583",
   "metadata": {},
   "source": [
    "### 18. What is an API specification, and how does it help in building a Flask API?\n",
    "\n",
    "It standardizes design and communication, aiding documentation and testing."
   ]
  },
  {
   "cell_type": "markdown",
   "id": "016983f2",
   "metadata": {},
   "source": [
    "### 19. What are HTTP status codes, and why are they important in a Flask API?\n",
    "\n",
    "They indicate request outcomes (e.g., 200 OK, 404 Not Found) and help with error handling."
   ]
  },
  {
   "cell_type": "markdown",
   "id": "573e8427",
   "metadata": {},
   "source": [
    "### 20. How do you handle POST requests in Flask?\n",
    "\n",
    "```python\n",
    "@app.route('/submit', methods=['POST'])\n",
    "def submit():\n",
    "    data = request.json\n",
    "    return jsonify(data)\n",
    "```"
   ]
  },
  {
   "cell_type": "markdown",
   "id": "931f0e38",
   "metadata": {},
   "source": [
    "### 21. How would you secure a Flask API?\n",
    "\n",
    "- Use HTTPS\n",
    "- Validate inputs\n",
    "- Use authentication (JWT, OAuth)\n",
    "- Rate limiting and logging"
   ]
  },
  {
   "cell_type": "markdown",
   "id": "a08ec435",
   "metadata": {},
   "source": [
    "### 22. What is the significance of the Flask-RESTful extension?\n",
    "\n",
    "It simplifies building REST APIs with features like class-based views and error handling."
   ]
  },
  {
   "cell_type": "markdown",
   "id": "3f34fdfa",
   "metadata": {},
   "source": [
    "### 23. What is the role of Flask’s session object?\n",
    "\n",
    "It stores user data across requests using signed cookies."
   ]
  },
  {
   "cell_type": "markdown",
   "id": "2dc4586c",
   "metadata": {},
   "source": [
    "### 24. How do you create a basic Flask application?\n",
    "\n",
    "```python\n",
    "from flask import Flask\n",
    "app = Flask(__name__)\n",
    "\n",
    "@app.route('/')\n",
    "def home():\n",
    "    return 'Welcome to Flask!'\n",
    "\n",
    "if __name__ == '__main__':\n",
    "    app.run(debug=True)\n",
    "```"
   ]
  },
  {
   "cell_type": "markdown",
   "id": "fafa287c",
   "metadata": {},
   "source": [
    "### 25. How do you serve static files like images or CSS in Flask?\n",
    "\n",
    "Place files in the `static/` directory. Access them using:\n",
    "```python\n",
    "url_for('static', filename='style.css')\n",
    "```"
   ]
  },
  {
   "cell_type": "markdown",
   "id": "35aaa6cf",
   "metadata": {},
   "source": [
    "### 26. How do you define different routes with different HTTP methods in Flask?\n",
    "\n",
    "```python\n",
    "@app.route('/example', methods=['GET', 'POST'])\n",
    "def example():\n",
    "    if request.method == 'POST':\n",
    "        return 'Posted'\n",
    "    return 'Get request'\n",
    "```"
   ]
  },
  {
   "cell_type": "markdown",
   "id": "1a3ea440",
   "metadata": {},
   "source": [
    "### 27. How do you render HTML templates in Flask?\n",
    "\n",
    "Place HTML files in a `templates/` folder and use:\n",
    "```python\n",
    "from flask import render_template\n",
    "return render_template('index.html')\n",
    "```"
   ]
  },
  {
   "cell_type": "markdown",
   "id": "d31c7bd0",
   "metadata": {},
   "source": [
    "### 28. How can you generate URLs for routes in Flask using url_for?\n",
    "\n",
    "```python\n",
    "url_for('function_name', param='value')\n",
    "```"
   ]
  },
  {
   "cell_type": "markdown",
   "id": "10d9faba",
   "metadata": {},
   "source": [
    "### 29. How do you handle forms in Flask?\n",
    "\n",
    "```python\n",
    "@app.route('/form', methods=['POST'])\n",
    "def form():\n",
    "    name = request.form['name']\n",
    "    return f'Hello {name}'\n",
    "```"
   ]
  },
  {
   "cell_type": "markdown",
   "id": "ecce6ef2",
   "metadata": {},
   "source": [
    "### 30. How can you validate form data in Flask?\n",
    "\n",
    "Use Flask-WTF or manually check inputs:\n",
    "```python\n",
    "if not request.form['name']:\n",
    "    return 'Name is required'\n",
    "```"
   ]
  },
  {
   "cell_type": "markdown",
   "id": "b806b4c2",
   "metadata": {},
   "source": [
    "### 31. How do you manage sessions in Flask?\n",
    "\n",
    "```python\n",
    "from flask import session\n",
    "session['user'] = 'Alice'\n",
    "```"
   ]
  },
  {
   "cell_type": "markdown",
   "id": "2a406ed8",
   "metadata": {},
   "source": [
    "### 32. How do you redirect to a different route in Flask?\n",
    "\n",
    "```python\n",
    "from flask import redirect, url_for\n",
    "return redirect(url_for('home'))\n",
    "```"
   ]
  },
  {
   "cell_type": "markdown",
   "id": "7637d252",
   "metadata": {},
   "source": [
    "### 33. How do you handle errors in Flask (e.g., 404)?\n",
    "\n",
    "```python\n",
    "@app.errorhandler(404)\n",
    "def page_not_found(e):\n",
    "    return 'Page not found', 404\n",
    "```"
   ]
  },
  {
   "cell_type": "markdown",
   "id": "495c231a",
   "metadata": {},
   "source": [
    "### 34. How do you structure a Flask app using Blueprints?\n",
    "\n",
    "Create modules using Blueprints and register them:\n",
    "```python\n",
    "from flask import Blueprint\n",
    "bp = Blueprint('bp', __name__)\n",
    "@bp.route('/')\n",
    "def index():\n",
    "    return 'Hello from blueprint'\n",
    "app.register_blueprint(bp)\n",
    "```"
   ]
  },
  {
   "cell_type": "markdown",
   "id": "fe3fe3ff",
   "metadata": {},
   "source": [
    "### 35. How do you define a custom Jinja filter in Flask?\n",
    "\n",
    "```python\n",
    "@app.template_filter('reverse')\n",
    "def reverse_filter(s):\n",
    "    return s[::-1]\n",
    "```"
   ]
  },
  {
   "cell_type": "markdown",
   "id": "b5fba79e",
   "metadata": {},
   "source": [
    "### 36. How can you redirect with query parameters in Flask?\n",
    "\n",
    "```python\n",
    "return redirect(url_for('route_name', key='value'))\n",
    "```"
   ]
  },
  {
   "cell_type": "markdown",
   "id": "ace4f27d",
   "metadata": {},
   "source": [
    "### 37. How do you return JSON responses in Flask?\n",
    "\n",
    "```python\n",
    "from flask import jsonify\n",
    "return jsonify({'key': 'value'})\n",
    "```"
   ]
  },
  {
   "cell_type": "markdown",
   "id": "41268cf4",
   "metadata": {},
   "source": [
    "### 38. How do you capture URL parameters in Flask?\n",
    "\n",
    "```python\n",
    "@app.route('/user/<username>')\n",
    "def profile(username):\n",
    "    return f'Hello {username}'\n",
    "```"
   ]
  }
 ],
 "metadata": {},
 "nbformat": 4,
 "nbformat_minor": 5
}
