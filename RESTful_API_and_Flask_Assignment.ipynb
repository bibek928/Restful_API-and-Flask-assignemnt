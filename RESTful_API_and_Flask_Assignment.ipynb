{
 "cells": [
  {
   "cell_type": "markdown",
   "id": "6b831d16",
   "metadata": {},
   "source": [
    "### 1. What is a RESTful API?\n",
    "\n",
    "A RESTful API is an application programming interface that follows the REST (Representational State Transfer) architectural style, using standard HTTP methods to access and manipulate resources."
   ]
  },
  {
   "cell_type": "markdown",
   "id": "08775384",
   "metadata": {},
   "source": [
    "### 2. Explain the concept of API specification.\n",
    "\n",
    "An API specification defines how software components interact, including endpoints, request/response formats, methods, and authentication. Tools like OpenAPI/Swagger are often used."
   ]
  },
  {
   "cell_type": "markdown",
   "id": "7ba5772b",
   "metadata": {},
   "source": [
    "### 3. What is Flask, and why is it popular for building APIs?\n",
    "\n",
    "Flask is a lightweight Python web framework. It's popular for APIs due to its simplicity, flexibility, and wide range of extensions."
   ]
  },
  {
   "cell_type": "markdown",
   "id": "57d9e4f5",
   "metadata": {},
   "source": [
    "### 4. What is routing in Flask?\n",
    "\n",
    "Routing maps URLs to specific functions in your Flask app using the @app.route() decorator."
   ]
  },
  {
   "cell_type": "markdown",
   "id": "ed732580",
   "metadata": {},
   "source": [
    "### 5. How do you create a simple Flask application?\n",
    "\n",
    "```python\n",
    "from flask import Flask\n",
    "app = Flask(__name__)\n",
    "\n",
    "@app.route('/')\n",
    "def hello():\n",
    "    return 'Hello, World!'\n",
    "\n",
    "if __name__ == '__main__':\n",
    "    app.run(debug=True)\n",
    "```"
   ]
  },
  {
   "cell_type": "markdown",
   "id": "e5ba7c55",
   "metadata": {},
   "source": [
    "### 6. What are HTTP methods used in RESTful APIs?\n",
    "\n",
    "GET, POST, PUT, DELETE, PATCH, OPTIONS."
   ]
  },
  {
   "cell_type": "markdown",
   "id": "d5010e0b",
   "metadata": {},
   "source": [
    "### 7. What is the purpose of the @app.route() decorator in Flask?\n",
    "\n",
    "It binds a URL to a view function, enabling routing."
   ]
  },
  {
   "cell_type": "markdown",
   "id": "87159800",
   "metadata": {},
   "source": [
    "### 8. What is the difference between GET and POST HTTP methods?\n",
    "\n",
    "GET retrieves data, POST sends data to the server to create/update resources."
   ]
  },
  {
   "cell_type": "markdown",
   "id": "47f14ea1",
   "metadata": {},
   "source": [
    "### 9. How do you handle errors in Flask APIs?\n",
    "\n",
    "```python\n",
    "@app.errorhandler(404)\n",
    "def not_found(e):\n",
    "    return {'error': 'Not found'}, 404\n",
    "```"
   ]
  },
  {
   "cell_type": "markdown",
   "id": "0743fb18",
   "metadata": {},
   "source": [
    "### 10. How do you connect Flask to a SQL database?\n",
    "\n",
    "```python\n",
    "app.config['SQLALCHEMY_DATABASE_URI'] = 'sqlite:///db.sqlite3'\n",
    "db = SQLAlchemy(app)\n",
    "```"
   ]
  },
  {
   "cell_type": "markdown",
   "id": "13ad50ec",
   "metadata": {},
   "source": [
    "### 11. What is the role of Flask-SQLAlchemy?\n",
    "\n",
    "It provides ORM capabilities, simplifies database interactions."
   ]
  },
  {
   "cell_type": "markdown",
   "id": "000bd4c3",
   "metadata": {},
   "source": [
    "### 12. What are Flask blueprints, and how are they useful?\n",
    "\n",
    "Blueprints modularize an app into components, making large apps manageable."
   ]
  },
  {
   "cell_type": "markdown",
   "id": "a6ee4523",
   "metadata": {},
   "source": [
    "### 13. What is the purpose of Flask's request object?\n",
    "\n",
    "It provides access to incoming request data like form inputs, JSON, etc."
   ]
  },
  {
   "cell_type": "markdown",
   "id": "9ab68c02",
   "metadata": {},
   "source": [
    "### 14. How do you create a RESTful API endpoint using Flask?\n",
    "\n",
    "```python\n",
    "@app.route('/api/data', methods=['GET'])\n",
    "def get_data():\n",
    "    return jsonify({'data': 'example'})\n",
    "```"
   ]
  },
  {
   "cell_type": "markdown",
   "id": "c67e48c9",
   "metadata": {},
   "source": [
    "### 15. What is the purpose of Flask's jsonify() function?\n",
    "\n",
    "It converts Python dictionaries to JSON responses with proper headers."
   ]
  },
  {
   "cell_type": "markdown",
   "id": "3577f70d",
   "metadata": {},
   "source": [
    "### 16. Explain Flask’s url_for() function.\n",
    "\n",
    "It dynamically builds URLs from function names, helpful for maintainability."
   ]
  },
  {
   "cell_type": "markdown",
   "id": "d4d1b9ad",
   "metadata": {},
   "source": [
    "### 17. How does Flask handle static files (CSS, JavaScript, etc.)?\n",
    "\n",
    "Flask serves files from the static directory using url_for('static', filename='style.css')."
   ]
  },
  {
   "cell_type": "markdown",
   "id": "98c83a9b",
   "metadata": {},
   "source": [
    "### 18. What is an API specification, and how does it help in building a Flask API?\n",
    "\n",
    "It standardizes design and communication, aiding documentation and testing."
   ]
  },
  {
   "cell_type": "markdown",
   "id": "2bfb72f3",
   "metadata": {},
   "source": [
    "### 19. What are HTTP status codes, and why are they important in a Flask API?\n",
    "\n",
    "They indicate request outcomes (e.g., 200 OK, 404 Not Found) and help with error handling."
   ]
  },
  {
   "cell_type": "markdown",
   "id": "c9de5466",
   "metadata": {},
   "source": [
    "### 20. How do you handle POST requests in Flask?\n",
    "\n",
    "```python\n",
    "@app.route('/submit', methods=['POST'])\n",
    "def submit():\n",
    "    data = request.json\n",
    "    return jsonify(data)\n",
    "```"
   ]
  },
  {
   "cell_type": "markdown",
   "id": "3d52a1bf",
   "metadata": {},
   "source": [
    "### 21. How would you secure a Flask API?\n",
    "\n",
    "- Use HTTPS\n",
    "- Validate inputs\n",
    "- Use authentication (JWT, OAuth)\n",
    "- Rate limiting and logging"
   ]
  },
  {
   "cell_type": "markdown",
   "id": "6b848d66",
   "metadata": {},
   "source": [
    "### 22. What is the significance of the Flask-RESTful extension?\n",
    "\n",
    "It simplifies building REST APIs with features like class-based views and error handling."
   ]
  },
  {
   "cell_type": "markdown",
   "id": "93c790c1",
   "metadata": {},
   "source": [
    "### 23. What is the role of Flask’s session object?\n",
    "\n",
    "It stores user data across requests using signed cookies."
   ]
  }
 ],
 "metadata": {},
 "nbformat": 4,
 "nbformat_minor": 5
}
